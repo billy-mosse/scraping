{
 "cells": [
  {
   "cell_type": "code",
   "execution_count": 1,
   "metadata": {},
   "outputs": [
    {
     "name": "stdout",
     "output_type": "stream",
     "text": [
      "Very usefull video to make logos for free!!\n",
      "Nice video! Perhaps you can make a video about &quot;how to make a custom logo for free in <a href=\"http://canva.com/\">canva.com</a>&quot; 💡\n",
      "I always learn something new interesting Lila with your classes!👏👏👏👏\n",
      "There is always something new to learn dear Lila !\n",
      "I love your videos Lila ! 👏👏👏\n",
      "I love the clarity of your teachings Lila !\n",
      "Thanks for the vid :)\n",
      "I love your videos so clearly explained 👋👋👋Lila 🥰\n",
      "Hey guys! Here is the link for my website: <a href=\"http://lila.me/\">lila.me</a><br />If you want to get notified when I post, hit subscribe and enter your email!\n",
      "Increíble la claridad con la que lo explicas! Me encanto!\n",
      "Espectacular. I love neon!!\n",
      "Excellent way to teach !\n",
      "Love the new intro!!!!!!\n",
      "Interesting, I didn’t know you could do that. Thanks for sharing 😉\n",
      "Hoy clearly  do you explain it Lila 👏👏👏👏👏\n",
      "Genialidad Lila tu explicación tan clara y precisa\n",
      "This is amazing. Thank you Lila teaches.\n",
      "Great tutorial to create my own blog! One day you can create a tutorial about <a href=\"http://wordpress.com/\">WordPress.com</a> free plan to have a blog?<br />Thanks!!\n",
      "I love u Lila I love Gia too!!!\n",
      "Thank you thank you thank youuuu!!!!\n",
      "I luv ur tutorials!! Ur my fav youtuber. You deserve way more attention\n",
      "Love it, thx\n",
      "I like chess!\n",
      "Great job! Simple and to the point. 👍💪\n",
      "Hola Lila, muy bueno tu video. A nosotros nos gusta mucho Netflix, Stremio, Flow y Prime Video.<br /><br />👍\n",
      "Thanks, I really needed this tutorial to edit my ID Badge picture\n",
      "I hope you all had a great weekend :D\n",
      "Lovely!\n",
      "I love the blobs!\n",
      "Great job! It was really helpful. Keep it up 👍\n",
      "walrusonion1\n",
      "Love it!\n",
      "I am so proud! Great teacher!\n",
      "Great video, Lila! Very usefull! Remember to use tags in your videos so they appear higher in Google and Youtube search results :)\n",
      "Amazing!! the best video I have ever seen in youtube\n"
     ]
    }
   ],
   "source": [
    "from pyyoutube import Api\n",
    "api = Api(api_key=API_KEY)\n",
    "channel_id = 'UCeF_1npFil2Rk07DOcJwdCw'\n",
    "ct_by_all = api.get_comment_threads(all_to_channel_id=channel_id, count = None)\n",
    "for comment_thread in ct_by_all.items:\n",
    "    all_comments = api.get_comment_by_id(comment_id = comment_thread.id)\n",
    "    for comment in all_comments.items:\n",
    "        print(comment.snippet.textDisplay)"
   ]
  },
  {
   "cell_type": "code",
   "execution_count": null,
   "metadata": {},
   "outputs": [],
   "source": []
  }
 ],
 "metadata": {
  "kernelspec": {
   "display_name": "Python 3",
   "language": "python",
   "name": "python3"
  },
  "language_info": {
   "codemirror_mode": {
    "name": "ipython",
    "version": 3
   },
   "file_extension": ".py",
   "mimetype": "text/x-python",
   "name": "python",
   "nbconvert_exporter": "python",
   "pygments_lexer": "ipython3",
   "version": "3.7.3"
  }
 },
 "nbformat": 4,
 "nbformat_minor": 4
}
